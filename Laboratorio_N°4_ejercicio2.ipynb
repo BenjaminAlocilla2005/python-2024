{
  "nbformat": 4,
  "nbformat_minor": 0,
  "metadata": {
    "colab": {
      "provenance": []
    },
    "kernelspec": {
      "name": "python3",
      "display_name": "Python 3"
    },
    "language_info": {
      "name": "python"
    }
  },
  "cells": [
    {
      "cell_type": "code",
      "execution_count": null,
      "metadata": {
        "id": "k3Wg2BywyGcH"
      },
      "outputs": [],
      "source": [
        "import numpy as np\n",
        "import matplotlib.pyplot as plt"
      ]
    },
    {
      "cell_type": "markdown",
      "source": [
        "2. Crear un gráfico de un vector aleatorio de 10 elementos utilizando un gráfico de líneas. (50 Pts)"
      ],
      "metadata": {
        "id": "g6qJvQLc2asN"
      }
    },
    {
      "cell_type": "markdown",
      "source": [
        "A. Crear un array aleatorio de 10 elementos. Los valores deben ser enteros entre el\n",
        "intervalo -5 al 5."
      ],
      "metadata": {
        "id": "KJIDJ3RO2eb8"
      }
    },
    {
      "cell_type": "code",
      "execution_count": null,
      "metadata": {
        "colab": {
          "base_uri": "https://localhost:8080/"
        },
        "id": "ApnuG-SB2X4b",
        "outputId": "f4a988ca-e7c3-41df-8101-40f19282c50d"
      },
      "outputs": [
        {
          "output_type": "execute_result",
          "data": {
            "text/plain": [
              "array([ 3,  2, -2,  4, -5, -1, -5, -4, -5,  1])"
            ]
          },
          "metadata": {},
          "execution_count": 7
        }
      ],
      "source": [
        "arreglo_aleatorio = np.random.randint(-5,5,10)\n",
        "arreglo_aleatorio"
      ]
    },
    {
      "cell_type": "code",
      "source": [
        "vector = arreglo_aleatorio.shape(5,5)"
      ],
      "metadata": {
        "colab": {
          "base_uri": "https://localhost:8080/",
          "height": 141
        },
        "id": "ySS1qi6WHYYb",
        "outputId": "22fca5d6-4499-4747-ab3b-0dc28a3aa352"
      },
      "execution_count": 12,
      "outputs": [
        {
          "output_type": "error",
          "ename": "TypeError",
          "evalue": "'tuple' object is not callable",
          "traceback": [
            "\u001b[0;31m---------------------------------------------------------------------------\u001b[0m",
            "\u001b[0;31mTypeError\u001b[0m                                 Traceback (most recent call last)",
            "\u001b[0;32m<ipython-input-12-6d5d72dcccd1>\u001b[0m in \u001b[0;36m<cell line: 1>\u001b[0;34m()\u001b[0m\n\u001b[0;32m----> 1\u001b[0;31m \u001b[0mvector\u001b[0m \u001b[0;34m=\u001b[0m \u001b[0marreglo_aleatorio\u001b[0m\u001b[0;34m.\u001b[0m\u001b[0mshape\u001b[0m\u001b[0;34m(\u001b[0m\u001b[0;36m5\u001b[0m\u001b[0;34m,\u001b[0m\u001b[0;36m5\u001b[0m\u001b[0;34m)\u001b[0m\u001b[0;34m\u001b[0m\u001b[0;34m\u001b[0m\u001b[0m\n\u001b[0m",
            "\u001b[0;31mTypeError\u001b[0m: 'tuple' object is not callable"
          ]
        }
      ]
    },
    {
      "cell_type": "markdown",
      "source": [
        "B. Implementar un gráfico de líneas simples a partir del vector obtenido. El gráfico debe\n",
        "tener:\n",
        "\n",
        "● Marcadores por cada punto\n",
        "\n",
        "● Etiqueta para el gráfico\n",
        "\n",
        "● Nombre del gráfico, y nombrar los ejes X e Y"
      ],
      "metadata": {
        "id": "nAxYaGyS2lJD"
      }
    },
    {
      "cell_type": "code",
      "source": [
        "\n",
        "\n",
        "colorbar\n",
        "\n",
        "plt.title(\"Valores del -5 al 5\")\n",
        "plt.xlabel()\n",
        "plt.ylabel()"
      ],
      "metadata": {
        "id": "1r8FW_xy2qMe"
      },
      "execution_count": null,
      "outputs": []
    }
  ]
}