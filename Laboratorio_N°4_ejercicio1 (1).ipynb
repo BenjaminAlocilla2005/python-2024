{
  "nbformat": 4,
  "nbformat_minor": 0,
  "metadata": {
    "colab": {
      "provenance": []
    },
    "kernelspec": {
      "name": "python3",
      "display_name": "Python 3"
    },
    "language_info": {
      "name": "python"
    }
  },
  "cells": [
    {
      "cell_type": "code",
      "execution_count": 4,
      "metadata": {
        "id": "k3Wg2BywyGcH"
      },
      "outputs": [],
      "source": [
        "import numpy as np\n",
        "import matplotlib.pyplot as plt"
      ]
    },
    {
      "cell_type": "markdown",
      "source": [
        "1. Desarrollar un código en Jupyter Notebook que trabaje con arrays y realice varias operaciones\n",
        "matemáticas y de manipulación de datos. El programa debe obtener la mediana, el promedio, y las\n",
        "posiciones de los valores máximo y mínimo de un array. Además, deberá transformar el array en una\n",
        "matriz y utilizar las funciones específicas para ello. A continuación se detalla los requerimientos:\n",
        "(50 Pts)"
      ],
      "metadata": {
        "id": "OCWC1KMny9yl"
      }
    },
    {
      "cell_type": "markdown",
      "source": [
        "A. Crear un array de 10 elementos. Los elementos de este array deben ser consecutivos\n",
        "del 1 al 10. Este array no debe ser aleatorio."
      ],
      "metadata": {
        "id": "fIEOcOMs0Ff9"
      }
    },
    {
      "cell_type": "code",
      "source": [
        "array_normal = np.array([(1,2), (3,4), (5,6), (7,8), (9,10)])\n",
        "array_normal"
      ],
      "metadata": {
        "colab": {
          "base_uri": "https://localhost:8080/"
        },
        "id": "rBSe-QEhzA43",
        "outputId": "c288ee9e-a867-4c12-ce7e-6657e68614b8"
      },
      "execution_count": 27,
      "outputs": [
        {
          "output_type": "execute_result",
          "data": {
            "text/plain": [
              "array([[ 1,  2],\n",
              "       [ 3,  4],\n",
              "       [ 5,  6],\n",
              "       [ 7,  8],\n",
              "       [ 9, 10]])"
            ]
          },
          "metadata": {},
          "execution_count": 27
        }
      ]
    },
    {
      "cell_type": "markdown",
      "source": [
        "B. Crear un segundo array de 10 elementos. Este array si debe ser aleatorio. Los valores\n",
        "deben ser enteros entre el 1 al 20."
      ],
      "metadata": {
        "id": "U1hbQTr00XjN"
      }
    },
    {
      "cell_type": "code",
      "source": [
        "array_random = np.random.randint(1,20,10)\n",
        "array_random"
      ],
      "metadata": {
        "colab": {
          "base_uri": "https://localhost:8080/"
        },
        "id": "aRRdZviQ0a-8",
        "outputId": "dd301571-66f9-410d-d66a-01309cd1bdf0"
      },
      "execution_count": 18,
      "outputs": [
        {
          "output_type": "execute_result",
          "data": {
            "text/plain": [
              "array([16, 18, 14, 15, 17,  7, 15, 15,  8, 16])"
            ]
          },
          "metadata": {},
          "execution_count": 18
        }
      ]
    },
    {
      "cell_type": "markdown",
      "source": [
        "C. Obtener un vector único de 10 elementos, sumando los dos arrays anteriores."
      ],
      "metadata": {
        "id": "WvjaRSnK02UU"
      }
    },
    {
      "cell_type": "code",
      "source": [
        "vector = np.reshape(array1,array2,10)"
      ],
      "metadata": {
        "colab": {
          "base_uri": "https://localhost:8080/",
          "height": 141
        },
        "id": "SkgrgtUd06jl",
        "outputId": "6e97323f-326c-40b4-cdb3-b46c55413ffb"
      },
      "execution_count": 19,
      "outputs": [
        {
          "output_type": "error",
          "ename": "NameError",
          "evalue": "name 'array1' is not defined",
          "traceback": [
            "\u001b[0;31m---------------------------------------------------------------------------\u001b[0m",
            "\u001b[0;31mNameError\u001b[0m                                 Traceback (most recent call last)",
            "\u001b[0;32m<ipython-input-19-041f495eadb2>\u001b[0m in \u001b[0;36m<cell line: 1>\u001b[0;34m()\u001b[0m\n\u001b[0;32m----> 1\u001b[0;31m \u001b[0mvector\u001b[0m \u001b[0;34m=\u001b[0m \u001b[0mnp\u001b[0m\u001b[0;34m.\u001b[0m\u001b[0mreshape\u001b[0m\u001b[0;34m(\u001b[0m\u001b[0marray1\u001b[0m\u001b[0;34m,\u001b[0m\u001b[0marray2\u001b[0m\u001b[0;34m,\u001b[0m\u001b[0;36m10\u001b[0m\u001b[0;34m)\u001b[0m\u001b[0;34m\u001b[0m\u001b[0;34m\u001b[0m\u001b[0m\n\u001b[0m",
            "\u001b[0;31mNameError\u001b[0m: name 'array1' is not defined"
          ]
        }
      ]
    },
    {
      "cell_type": "markdown",
      "source": [
        "D. Mezclar el vector obtenido en la letra C utilizando una función vista en la Unidad IV"
      ],
      "metadata": {
        "id": "mKATXZnT3dFM"
      }
    },
    {
      "cell_type": "code",
      "source": [
        "vector_mezclado ="
      ],
      "metadata": {
        "id": "meSiqAGO3fzT"
      },
      "execution_count": null,
      "outputs": []
    },
    {
      "cell_type": "markdown",
      "source": [
        "E. Calcular la Mediana, el Promedio y Posiciones de Valores Máximo y Mínimo utilizando\n",
        "las funciones vistas en la Unidad IV. Tomar el vector de la letra D.\n"
      ],
      "metadata": {
        "id": "HnxQfNRU3gPk"
      }
    },
    {
      "cell_type": "code",
      "source": [],
      "metadata": {
        "id": "SdrMzDDa3kik"
      },
      "execution_count": null,
      "outputs": []
    },
    {
      "cell_type": "markdown",
      "source": [
        "E. Transformar el vector obtenido en una Matriz de 2 x 5"
      ],
      "metadata": {
        "id": "903aNwH43lbc"
      }
    },
    {
      "cell_type": "code",
      "source": [],
      "metadata": {
        "id": "uJ9g42NM34dT"
      },
      "execution_count": null,
      "outputs": []
    }
  ]
}